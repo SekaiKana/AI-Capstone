{
 "cells": [
  {
   "cell_type": "markdown",
   "metadata": {},
   "source": [
    "## Vision Transformers (ViTs) Using PyTorch"
   ]
  },
  {
   "cell_type": "markdown",
   "metadata": {},
   "source": [
    "In this notebook, we will learn to build a PyTorch-based hybrid CNN and ViT for image classification. We will start by using CNN layers to extract detailed features, such as edges and textures, from images. Then, we will see how those features are passed to a ViT, which looks at the global correlations in the entire image by looking at all locations at once. Then, we will train a hybrid CNN-Vit model. "
   ]
  },
  {
   "cell_type": "markdown",
   "metadata": {},
   "source": [
    "1. Load the custom trained PyTorch CNN model\n",
    "2. Extract features maps from the PyToch model\n",
    "3. Prepare tokens for the Vision Transformer\n",
    "4. Build the Vision Transformer ensoder\n",
    "5. Train and evaluate the hybrid model"
   ]
  },
  {
   "cell_type": "markdown",
   "metadata": {},
   "source": [
    "#### Step 1: Setup and importing libraties "
   ]
  },
  {
   "cell_type": "code",
   "execution_count": 165,
   "metadata": {},
   "outputs": [
    {
     "name": "stdout",
     "output_type": "stream",
     "text": [
      "CPU times: total: 0 ns\n",
      "Wall time: 26.9 μs\n"
     ]
    }
   ],
   "source": [
    "%%time\n",
    "import warnings\n",
    "warnings.filterwarnings('ignore')\n",
    "\n",
    "import os\n",
    "import time\n",
    "import httpx\n",
    "import random\n",
    "import numpy as np\n",
    "from tqdm import tqdm\n",
    "import matplotlib.pyplot as plt\n",
    "from datetime import datetime\n",
    "\n",
    "def present_time():\n",
    "        return datetime.now().strftime('%Y%m%d_%H%M%S')\n"
   ]
  },
  {
   "cell_type": "code",
   "execution_count": 166,
   "metadata": {},
   "outputs": [
    {
     "name": "stdout",
     "output_type": "stream",
     "text": [
      "Imported PyTorch libraries\n",
      "CPU times: total: 0 ns\n",
      "Wall time: 165 μs\n"
     ]
    }
   ],
   "source": [
    "%%time\n",
    "import torch\n",
    "import torch.nn as nn\n",
    "import torch.optim as optim\n",
    "from torchvision import transforms, datasets\n",
    "from torch.utils.data import DataLoader, random_split\n",
    "import torch.nn.functional as F\n",
    "print(\"Imported PyTorch libraries\")"
   ]
  },
  {
   "cell_type": "markdown",
   "metadata": {},
   "source": [
    "##### Layout\n",
    "- First, we load the pre-trained PyTorch based CNN model.\n",
    "- Then, we define the CNN backbone. This is same as defined in the training of the pre-trained model.\n",
    "- The CNN backbone reduces the input image's spatial dimensions and expands its feature channels. We then convert this feature map into a sequence of tokens for the ViT.\n",
    "- These tokens are passd into a Vit module. The ViT is applied after the CNN so it can model global relationships and context between different regions in the original image, something CNNS alone cannot do as effectively. \n",
    "- We use a sequential hybrid architecture: the CNN performs local feature extraction, and the ViT, using those extracted features, performs global reasoning. This leverages the strengths of both models for improved accuracy and generalization. \n",
    "- Feature reshaping is used: the CNN feature map is flattened and fed into the transformer, and positional encoding might be added to preserve spatial information.\n",
    "- We train this hybrid model end-to-end, meaning both the CNN and ViT parameters are updated together to optimize classification performance. \n",
    "- Throughout the process, we are able to monitor both local (CNN) and global (ViT) attention across the image, resulting in a model that is more robust and effective than using either approach.  "
   ]
  },
  {
   "cell_type": "markdown",
   "metadata": {},
   "source": [
    "#### Step 2: Loading model paths"
   ]
  },
  {
   "cell_type": "code",
   "execution_count": 167,
   "metadata": {},
   "outputs": [],
   "source": [
    "data_dir = \".\"\n",
    "\n",
    "pytorch_state_dict_name = \"ibm_ai_capstone_project.pth\"\n",
    "pytorch_state_dict_path = os.path.join(data_dir, pytorch_state_dict_name)"
   ]
  },
  {
   "cell_type": "markdown",
   "metadata": {},
   "source": [
    "To achieve reproducible results when we train a CNN in PyTorch, we must seed every random-number generator and configures cuDNN dor deterministic kernels. \n",
    "\n",
    "- **Python & NumPy** - Many data-pipeline utilities (shuffling lists, image augmentations) rely on these random-number generators. Seeding them first removes one entire layer of randomness. \n",
    "- **PyTorch CPU / GPU** - `torch.manual_seed` covers every op executed on the CPU, while `torch.cuda.manual_seed_all` applies the same seed to each GPU stream so that multi-GPU jobs stay in sync. \n",
    "- **cuDNN flags** - By default cuDNN picks the fastes convolution algorithm, which can vary run-to-run. Setting `deterministic = True` forces repeatable kernels and turning `benchmark` *off* prevents the auto-tuner from replaceing those kernels mid-training. "
   ]
  },
  {
   "cell_type": "code",
   "execution_count": 168,
   "metadata": {},
   "outputs": [],
   "source": [
    "def set_seed(seed: int = 42) -> None:\n",
    "    \"\"\"Seed Python, NumPy, and PyTorch (CPU & all GPUs) and \n",
    "    make cuDNN run in deterministic mode.\"\"\"\n",
    "    \n",
    "    # PyTorch and NumPy\n",
    "    random.seed(seed)\n",
    "    np.random.seed(seed)\n",
    "\n",
    "    # PyTorch (CPU & GPU)\n",
    "    torch.manual_seed(seed)\n",
    "    torch.cuda.manual_seed_all(seed)\n",
    "\n",
    "    # cuDNN: force repeatable convolutions\n",
    "    torch.backends.cudnn.deterministic = True\n",
    "    torch.backends.cudnn.benchmark = False"
   ]
  },
  {
   "cell_type": "code",
   "execution_count": 169,
   "metadata": {},
   "outputs": [
    {
     "name": "stdout",
     "output_type": "stream",
     "text": [
      "Global seed set to 7331 - main process is now deterministc.\n"
     ]
    }
   ],
   "source": [
    "SEED = 7331\n",
    "set_seed(SEED)\n",
    "print(f\"Global seed set to {SEED} - main process is now deterministc.\")"
   ]
  },
  {
   "cell_type": "markdown",
   "metadata": {},
   "source": [
    "#### Step 3: Defining pre-trained CNN backbone"
   ]
  },
  {
   "cell_type": "markdown",
   "metadata": {},
   "source": [
    "We shall create and implement a **ConvNet** class. This class serves as the convolutional backbone for the hybrid CNN-ViT architecture. The design of this class will be **same as training architecture**, with six progressive convolutional blocks. \n",
    "- `forward_features()`: Returns the raw convolutional feature map (B, 1024, H, W) for use by the ViT component\n",
    "- **Role in hybrid architecture**: In the hybrid model, this CNN serves as a local feature extractors, capturing low-level patterns, edges, and textures before passing the feature-rich representation to the ViT for global context modeling. The 1024-channels output provides a rich semantic representation that the ViT can process as a sequence of tokens."
   ]
  },
  {
   "cell_type": "code",
   "execution_count": 170,
   "metadata": {},
   "outputs": [],
   "source": [
    "class ConvNet(nn.Module):\n",
    "    '''\n",
    "    Class to define the architecture same as the imported pre-trained CNN model for extracting the feature map\n",
    "    '''\n",
    "\n",
    "    def __init__(self, num_classes):\n",
    "        super().__init__()\n",
    "        self.features = nn.Sequential(\n",
    "            # Conv Block 1\n",
    "            nn.Conv2d(3, 32, 5, padding=2), nn.ReLU(), nn.MaxPool2d(2), nn.BatchNorm2d(32),\n",
    "\n",
    "            # Conv Block 2-6\n",
    "            nn.Conv2d(32, 64, 5, padding=2), nn.ReLU(), nn.MaxPool2d(2), nn.BatchNorm2d(64),\n",
    "            nn.Conv2d(64, 128, 5, padding=2), nn.ReLU(), nn.MaxPool2d(2), nn.BatchNorm2d(128),\n",
    "            nn.Conv2d(128, 256, 5, padding=2), nn.ReLU(), nn.MaxPool2d(2), nn.BatchNorm2d(256),\n",
    "            nn.Conv2d(256, 512, 5, padding=2), nn.ReLU(), nn.MaxPool2d(2), nn.BatchNorm2d(512),\n",
    "            nn.Conv2d(512, 1024, 5, padding=2), nn.ReLU(), nn.MaxPool2d(2), nn.BatchNorm2d(1024),\n",
    "        )\n",
    "\n",
    "    def forward_features(self, x):\n",
    "        return self.features(x)"
   ]
  },
  {
   "cell_type": "markdown",
   "metadata": {},
   "source": [
    "#### Step 4: Vision Transformers"
   ]
  },
  {
   "cell_type": "markdown",
   "metadata": {},
   "source": [
    "##### Patch embedding\n",
    "\n",
    "The **PatchEmbed** class implements the **interface** between the CNN feature extractor and the Vit, converting spatial feature maps into a sequence of tokens suitable for self-attention processing.\n",
    "\n",
    "Unlike traditional ViT implementations that divide raw images into fixed-size patches, this hybrid approach operates on CNN feature maps. The implementation uses a 1 x 1 convolution as a learned linear projection to transform the 1024-dimensional CNN features into the transformer's embedding dimension (default 768).\n",
    "\n",
    "The transformation process involves 3 key steps:\n",
    "1. **Channel projection**: `nn.Conv2d(in_ch, embed_dim, kernel_size=1)` reduces or expands the channel dimension from 1024 to the preferred embedding size.\n",
    "2. **Spatial flattening**: `.flatten(2)` collapses the height and width dimensions (HxW) into a single sequence dimension\n",
    "3. **Tensor reshaping**: `.transpose(1,2)` reorders dimensions from (B, D, L) to (B, L, D) where L = H x W represents the sequence length\n",
    "\n",
    "**Integration with hybrid architecture**\n",
    "In the contect of the hybrid model, this patch embedding serves as the bridge between local CNN features and global transformer processing. Since the CNN has already extracted meaningful local patterns, the patch embedding focuses on format conversion rather than feature extraction. This deisgn is more **efficient** than traditional ViT patch embedding since the CNN has already performed the heavy lifting of feature extraction from raw pixels. \n",
    "\n",
    "The **output tensor** (B, L, D) represents a batch of sequences where each sequence contains L tokens (corresponding to spatial locations in the feature map) with D-dimensional embddings ready for transformer processing. "
   ]
  },
  {
   "cell_type": "code",
   "execution_count": 171,
   "metadata": {},
   "outputs": [],
   "source": [
    "class PatchEmbed(nn.Module):\n",
    "    def __init__(self, input_channel = 1024, embed_dim = 768):\n",
    "        super().__init__()\n",
    "        self.proj = nn.Conv2d(input_channel, embed_dim, kernel_size=1) # 1 x 1 conv\n",
    "    \n",
    "    def forward(self, x):\n",
    "        x = self.proj(x).flatten(2).transpose(1,2) # (B,L,D)\n",
    "        return x"
   ]
  },
  {
   "cell_type": "markdown",
   "metadata": {},
   "source": [
    "#### Step 5: Multi-head self-attention (MHSA) module"
   ]
  },
  {
   "cell_type": "markdown",
   "metadata": {},
   "source": [
    "The MHSA class implements the self-attention mechanism that enables the ViT to model long-range dependencies and global context across all spatial locations in the feature map.\n",
    "\n",
    "The implementation follows the scaled dot-product attention formula: **Attention (Q, K, V) = softmax(QK^T/√d)V**, where Q, K, and V represent query key, and value metrices, respectively. The scaling factor 1/√d prevents the dot products from becoming too large, which would push the softmac function into regions with extremely small gradients. \n",
    "\n",
    "The multi-head mechanism splits the embedding dimension across multiple attention heads, allowing the model to attend to different types of relationship simultaneously. \n",
    "\n",
    "Key implementation details: \n",
    "- Unified QKV projection: A single linear layer `nn.Linear(dim, dim*3)` generates Q, K, and V matrices efficiently, reducing memoty overhead compared to seperate projections. \n",
    "- Head reshaping: The tensor is reshaped from (B, N, D) to (H, heads, N, d) where d = D/heads, enabling parallel processing across heads.\n",
    "- Attention computation: Matric multiplication `torch.matmul(q, k.transpose(-2, -1))` computes attention scores, followed by scaling and softmax normalization. \n",
    "- Dropout regularization: Two dropout layers prevent overfitting - one on attention weights and one on the final output.\n",
    "\n",
    "Unlike CNNs, which have limited receptive fields, self-attention allows every token to interact directly with every other token in a single operation. This enables the model to capture **long-range spatial dependencies** that might be missed by purely convolutional approaches.\n",
    "\n",
    "In the hybrid architecture, this global modeling complements the local feature extraction performd by the CNN backbone. \n",
    "\n",
    "The attention weights provide interpretability, showing which spatial locations the model focuses on when making predictions. This component is valuable for both performance and explainability. "
   ]
  },
  {
   "cell_type": "code",
   "execution_count": 172,
   "metadata": {},
   "outputs": [],
   "source": [
    "class MHSA(nn.Module):\n",
    "    def __init__(self, dim, heads=8, dropout=0.):\n",
    "        super().__init__()\n",
    "        self.heads = heads\n",
    "        self.scale = (dim // heads) ** -0.5\n",
    "        self.qkv = nn.Linear(dim, dim * 3)\n",
    "        self.attn_drop = nn.Dropout(dropout)\n",
    "        self.proj = nn.Linear(dim, dim)\n",
    "        self.proj_drop = nn.Dropout(dropout)\n",
    "\n",
    "    def forward(self, x):\n",
    "        B, N, D = x.shape\n",
    "        q, k, v = self.qkv(x).chunk(3, dim=-1)\n",
    "        q = q.reshape(B, N, self.heads, -1).transpose(1, 2) # B, heads, N, d\n",
    "        k = k.reshape(B, N, self.heads, -1).transpose(1, 2)\n",
    "        k = k.reshape(B, N, self.heads, -1).transpose(1, 2)\n",
    "        v = v.reshape(B, N, self.heads, -1).transpose(1, 2)\n",
    "        attn = torch.matmul(q, k.transpose(-2, -1) * self.scale)\n",
    "        attn = self.attn_drop(attn.softmax(dim=-1))\n",
    "        x = torch.matmul(attn, v).transpose(1, 2).reshape(B, N, D)\n",
    "        return self.proj_drop(self.proj(x))"
   ]
  },
  {
   "cell_type": "markdown",
   "metadata": {},
   "source": [
    "#### Step 6: Transformer block"
   ]
  },
  {
   "cell_type": "markdown",
   "metadata": {},
   "source": [
    "This code defines a building block used in modern deep learning models, especially in ViT. The class is called TransformerBlock, and it is responsible for helping the model \"pay attention\" to the most important parts of its input and improve the final predictions.\n",
    "\n",
    "What actually happens inside:\n",
    "\n",
    "**Layer normalization (nn.LayerNorm)**: This helps stabilize and speed up training by normalizing each row of the input data, which is useful before applying attention or a neural network layer.\n",
    "\n",
    "**Attention later (MHSA)**: This is the \"Multi-Head Self Attention\" block. It enables the model to look at all positions in the sequence (or image patches) at once, figuring out which ones are most important for each output. It is like giving the model the power to focus on the key parts of an image or sentence. \n",
    "\n",
    "**MLP (nn.Sequential)**: This is a Multi-Layer Perception or a mini neural network, made up of linear (fully connected) layers, a special activation (GELU), and dropout for regularization. This MLP has:\n",
    "- One linear layer that expands the input dimension by mlp_ratio (for example, 4x wider).\n",
    "- A GELU activation function (a nonlinear operation, similar to ReLU).\n",
    "- Dropout for regularization (helps prevent overfitting).\n",
    "- Another linear layer that shrinks the data back to the original dimension.\n",
    "- Another dropout layer. Here MLP is designed to help the model learn better representations by combining and transforming the information after the attention step.\n",
    "\n",
    "**Skip/Residual connection (x + ...):** These connections support effective and stable training for deep neural network by keeping pathways open for both forward information flow and backward gradient flow, making depp architectures such as transformers possible and practical. In transformers, skip connections are placed around both the attention and feedforward (MLP) sub-layers in each block. This stabalizes training of these very deep, stackable models, improves convergence speed, and lets them scale to larger dataset and more complex tasks.\n",
    "\n",
    "In summary, this block helps models understand relationships in their input data, making them more powerful for tasks such as image and language understanding."
   ]
  },
  {
   "cell_type": "code",
   "execution_count": 173,
   "metadata": {},
   "outputs": [],
   "source": [
    "class TransformerBlock(nn.Module):\n",
    "    def __init__(self, dim, heads, mlp_ratio = 4, dropout = 0.):\n",
    "        super().__init__()\n",
    "        self.norm1 = nn.LayerNorm(dim)\n",
    "        self.attn = MHSA(dim, heads, dropout)\n",
    "        self.norm2 = nn.LayerNorm(dim)\n",
    "        self.mlp = nn.Sequential(\n",
    "            nn.Linear(dim, int(dim * mlp_ratio)),\n",
    "            nn.GELU(), \n",
    "            nn.Dropout(dropout),\n",
    "            nn.Linear(int(dim * mlp_ratio), dim),\n",
    "            nn.Dropout(dropout)\n",
    "        )\n",
    "    \n",
    "    def forward(self, x):\n",
    "        x = x + self.attn(self.norm1(x))\n",
    "        x = x + self.mlp(self.norm2(x))\n",
    "        return x"
   ]
  },
  {
   "cell_type": "markdown",
   "metadata": {},
   "source": [
    "#### Step 7: ViT model"
   ]
  },
  {
   "cell_type": "markdown",
   "metadata": {},
   "source": [
    "Thhe ViT class represents the complete ViT inplementation, including patch embedding, positional encoding, transformer blocks, and a classification head for global context modeling. \n",
    "\n",
    "The implementation uses a leanable Classification (CLS) token:\n",
    "- Initialization: `nn.Parameter(torch.zeros(1,1, embed_dim))` creates a learnable token initialized to zeros \n",
    "- Expansion: `self.cls.expand(B, -1, -1)` replicares the token across the batch dimension\n",
    "- Prepending: `torch.cat((cls, x), 1)` concatenates the CLS token to the beginning of the sequence \n",
    "- Classification: Only the CLS token representation is used for final classification\n",
    "\n",
    "This allows the CLS token to aggreate information from all spatial locations through self-attention, creating a global representation suitable for classification.\n",
    "\n",
    "`nn.Parameter(torch.randn(1, max_tokens, embed_dim))` creates a large positional embedding matric and `self.pos[:, :L+1]` dynamically slices the positional embeddings to match the actual sequence length. Together, these create a **dynamic positional encoding** system for the hybrid architecture where the CNN feature map size can vary based on input dimensions. \n",
    "\n",
    "`depth` defines the number of transformerBlocks to be used in the transformer encoder.\n",
    "\n",
    "###### Classification head design\n",
    "\n",
    "The final classification pipeline includes: \n",
    "1. **Final normalization**: `self.norm(x)` applies LayerNorm to the final transformer output.\n",
    "2. **CLS token extraction**: `[:, 0]` selects only the CLS token representation\n",
    "3. **Linear classification**: `self.head` maps the CLS representation to the class logits\n",
    "\n",
    "The model's ability to handle variable sequence lengths makes it robust to different input sizes and CNN architectures, prociving flexibility in deployment scenratios."
   ]
  },
  {
   "cell_type": "code",
   "execution_count": 174,
   "metadata": {},
   "outputs": [],
   "source": [
    "class ViT(nn.Module):\n",
    "    def __init__(self, in_ch=1024, num_classes=2, embed_dim=768, depth=6, heads=8, mlp_ratio=4., dropout=0.1, max_tokens=50):\n",
    "        super().__init__()\n",
    "        self.patch = PatchEmbed(in_ch, embed_dim) # 1 x 1 conv\n",
    "        self.cls = nn.Parameter(torch.zeros(1, 1, embed_dim))\n",
    "        self.pos = nn.Parameter(torch.randn(1, max_tokens, embed_dim))\n",
    "        self.blocks = nn.ModuleList([\n",
    "            TransformerBlock(embed_dim, heads, mlp_ratio, dropout)\n",
    "            for _ in range(depth)\n",
    "        ])\n",
    "        self.norm = nn.LayerNorm(embed_dim)\n",
    "        self.head = nn.Linear(embed_dim, num_classes)\n",
    "\n",
    "    def forward(self, x):                        # x: (B,C,H,W)\n",
    "        x = self.patch(x)                        # (B, L, D)\n",
    "        B, L, _ = x.shape                        \n",
    "        cls = self.cls.expand(B, -1, -1)         # (B, 1, D)\n",
    "        x = torch.cat((cls, x), 1)               # (B, L+1, D)\n",
    "        x = x + self.pos[:, :L + 1]              # match seq-len\n",
    "        for blk in self.blocks:\n",
    "            x = blk(x)\n",
    "        return self.head(self.norm(x)[:, 0])     # CLS token"
   ]
  },
  {
   "cell_type": "markdown",
   "metadata": {},
   "source": [
    "#### Step 8: CNN-ViT hybrid model"
   ]
  },
  {
   "cell_type": "markdown",
   "metadata": {},
   "source": [
    "The CNN_ViT_Hybrid class represents the hybrid architecture, integrating the CNN backbone with the Vision Transformer to create a unified model that leverages both local and global feature processing capabilities. In this hybrid model, the pre-trained CNN layers can be frozen while fine-tuning the ViT and allows for efficient attention to operate on semantically rich CNN features rather than raw pixel. Thus, this hybrid approach combines the excellent capabilities of CNN to capture local patterns efficiently with ViT's global context modeling, while keeping the level of complexity low. \n",
    "\n",
    "The forward pass implements a two-stage forward pass pipeline:\n",
    "1. **Local feature extraction**: `self.cnn.forward_features(x)` processes the input image through the CNN backbone, extracting hierarchical local features and reducing spatial resolution while increasing semantic depth.\n",
    "2. **Global context modeling**: `self.vit(features)` takes the CNN feature map and processes it through the ViT for global reasoning and classificaiton.\n",
    "\n",
    "Despite te modeular design, the entire hybrid model remains fully differentiable, enabling the end-to-end training where gradients could flow from the classification loss back through both the ViT and CNN components. This allows the CNN to learn features that are optimally suited for the downstream transformer processing, creating a synergetic relationship between the two architectures. "
   ]
  },
  {
   "cell_type": "code",
   "execution_count": 175,
   "metadata": {},
   "outputs": [],
   "source": [
    "class CNN_ViT_Hybrid(nn.Module):\n",
    "    def __init__(self, num_classes = 2, embed_dim = 768, depth = 6, heads = 8):\n",
    "        super().__init__()\n",
    "        self.cnn = ConvNet(num_classes)\n",
    "        self.vit = ViT(\n",
    "            num_classes=num_classes,\n",
    "            embed_dim = embed_dim,\n",
    "            depth = depth,\n",
    "            heads = heads\n",
    "            )\n",
    "    \n",
    "    def forward(self, x):\n",
    "        return self.vit(self.cnn.forward_features(x))"
   ]
  },
  {
   "cell_type": "markdown",
   "metadata": {},
   "source": [
    "#### Step 9: Model training"
   ]
  },
  {
   "cell_type": "markdown",
   "metadata": {},
   "source": [
    "The train function implements a comprehensive training loop for one epoch, handling forward propagation, loss computation, backpropagation, and metric tracking in a memory-efficient manner.\n",
    "\n",
    "Training mode: The function begins with `model.train`, which configures the model for training by enabling dropout layers and gradient computation. \n",
    "\n",
    "Batch processing pipeline: Each training iteration follows a standard deep learning pipeline:\n",
    "1. **Data transfer**: `x, y = x.to(device), y.to(device)` moves input data and labels to the appropriate device (CPU/GPU)\n",
    "2. **Gradient reset**: `optimizer.zero_grad()` clears gradients from the previous iteration to prevent accumulation \n",
    "3. **Forward pass**: `out = model(x)` computes predictions through the hybrid CN-ViT architecture \n",
    "4. **Loss computation**: `loss = criterion(out, y)` calculates cross-entropy loss between predictions and ground truth\n",
    "5. **Backpropagation**: `loss.backward()` computes gradients via automatic differentiation.\n",
    "6. **Parameter update**: `optimizer.step()` updates model parameters using the computed gradients.\n",
    "\n",
    "Metrics accumulation: The function tracks two key metrics:\n",
    "- **Weighted loss**: `loss.item() * x.size(0)` accumulates loss weighted by batch size for accurate aceraging\n",
    "- **Correct predictions**: `(out.argmax(1) == y).sum().item()` counts correct predictions using argmax for multi-class classification"
   ]
  },
  {
   "cell_type": "code",
   "execution_count": 185,
   "metadata": {},
   "outputs": [],
   "source": [
    "def train(model, loader, optimizer, criterion, device):\n",
    "    model.train()\n",
    "    loss_sum, correct = 0, 0\n",
    "    for batch_idx, (x, y) in enumerate(tqdm(loader, desc=\"Training \")):\n",
    "        x, y = x.to(device), y.to(device)\n",
    "        optimizer.zero_grad()\n",
    "        out = model(x)\n",
    "        loss = criterion(out, y)\n",
    "        loss.backward()\n",
    "        optimizer.step()\n",
    "        loss_sum += loss.item() * x.size(0)\n",
    "        correct += (out.argmax(1) == y).sum().item()\n",
    "    return loss_sum / len(loader.dataset), correct / len(loader.dataset)"
   ]
  },
  {
   "cell_type": "markdown",
   "metadata": {},
   "source": [
    "#### Step 10: Model evaluation"
   ]
  },
  {
   "cell_type": "markdown",
   "metadata": {},
   "source": [
    "Here, we wil evaluate the model, implementing inference without gradient computation to optimize memory usage and computational speed.\n",
    "\n",
    "Two fundamental differences between using the model for evaluation and testing versus training are:\n",
    "  - **torch.no_grad()**: Disables gradient computation and accelerate inference\n",
    "  - **model.eval()**: Switches the model to evaluation mode, esnures deterministic outputs\n",
    "\n",
    "The **evaluation loop** mirrors the training loop structure but omits gradient-related operations.\n",
    "\n",
    "This function **integrates with the training pipeline**, providing regular validation checks that help monitor model progress, detect overfitting, and make informed decisions about training continuation, learning rate adjustements, and model selection. The consisten interface with the training function enables easy integration into automated training workflows."
   ]
  },
  {
   "cell_type": "code",
   "execution_count": 187,
   "metadata": {},
   "outputs": [],
   "source": [
    "def evaluate(model, loader, criterion, device):\n",
    "    with torch.no_grad():\n",
    "        model.eval()\n",
    "        loss_sum, correct = 0, 0\n",
    "        for batch_idx, (x, y) in enumerate(tqdm(loader, desc=\"Validation\")):\n",
    "            x, y = x.to(device), y.to(device)\n",
    "            out = model(x)\n",
    "            loss = criterion(out, y)\n",
    "            loss_sum += loss.item() * x.size(0)\n",
    "            correct += (out.argmax(1) == y).sum().item()\n",
    "    return loss_sum / len(loader.dataset), correct / len(loader.dataset)"
   ]
  },
  {
   "cell_type": "markdown",
   "metadata": {},
   "source": [
    "#### Step 11: Data preparation and loading"
   ]
  },
  {
   "cell_type": "markdown",
   "metadata": {},
   "source": [
    "Here, we implement data preparation for the entire data pipeline, from raw image loading to batches tensor delivery.\n",
    "\n",
    "We define the key training hyperparameters:\n",
    "- **Image size (64 x 64)**: Chosen to computational efficiency while maintaining sufficient resolution for feature extraction. \n",
    "- **Batch size (128)**: Balances memory usage with gradient stability and training speed.\n",
    "- **learning rate (0.001)**: A conservative number for learning\n",
    "- **number of classes**: Total number of classes to be classified by the model"
   ]
  },
  {
   "cell_type": "code",
   "execution_count": 188,
   "metadata": {},
   "outputs": [],
   "source": [
    "dataset_path = os.path.join(data_dir, \"images_dataSAT\")\n",
    "\n",
    "img_size = 64\n",
    "batch_size = 32\n",
    "lr = 0.001\n",
    "num_cls = 2"
   ]
  },
  {
   "cell_type": "markdown",
   "metadata": {},
   "source": [
    "#### Step 12: Training and validation data transformations"
   ]
  },
  {
   "cell_type": "markdown",
   "metadata": {},
   "source": [
    "The **training transform** pipeline implements several augmentation techniques including Random Rotation, Random Horizontal Flip, Random Affine with Shear and normalization."
   ]
  },
  {
   "cell_type": "code",
   "execution_count": 189,
   "metadata": {},
   "outputs": [],
   "source": [
    "train_transform = transforms.Compose([\n",
    "    transforms.Resize((img_size, img_size)),\n",
    "    transforms.RandomRotation(40),\n",
    "    transforms.RandomHorizontalFlip(),\n",
    "    transforms.RandomAffine(0, shear=0.2),\n",
    "    transforms.ToTensor(),\n",
    "    transforms.Normalize([0.485, 0.456, 0.406], [0.229, 0.224, 0.225]) # It normalizes the image so each RGB channel matches the mean and standard deviation of ImageNet images, making pixel values roughly centered around 0 with unit variance.\n",
    "])"
   ]
  },
  {
   "cell_type": "code",
   "execution_count": 190,
   "metadata": {},
   "outputs": [],
   "source": [
    "val_transform = transforms.Compose([\n",
    "    transforms.Resize((img_size, img_size)),\n",
    "    transforms.ToTensor(),\n",
    "    transforms.Normalize([0.485, 0.456, 0.406], [0.229, 0.224, 0.225]) # It normalizes the image so each RGB channel matches the mean and standard deviation of ImageNet images, making pixel values roughly centered around 0 with unit variance.\n",
    "])"
   ]
  },
  {
   "cell_type": "markdown",
   "metadata": {},
   "source": [
    "#### Step 13: The DataLoader"
   ]
  },
  {
   "cell_type": "markdown",
   "metadata": {},
   "source": [
    "The DataLoader setup is optimized for training:\n",
    "- Shuffling: Training data is shuffled to prevent batch-level patterns\n",
    "- No Clidation Shuffling: Validation order is consistent for reproducible results\n",
    "- `batch_size`: Efficient tensor batching for GPU utilization\n",
    "\n",
    "We begin by splitting the dataset into `training` and `validation` data using `random_split` feature. Here, we define 80% of the total dataset for training and rest for validation.\n",
    "\n",
    "Next, we apply the `train_transform` to `train_dataset` and `val_transform` to `val_dataset` to make the dataset ready for DataLoader"
   ]
  },
  {
   "cell_type": "code",
   "execution_count": 191,
   "metadata": {},
   "outputs": [],
   "source": [
    "full_dataset = datasets.ImageFolder(dataset_path, transform=train_transform)\n",
    "\n",
    "train_size = int(0.8 * len(full_dataset))\n",
    "val_size = len(full_dataset) - train_size\n",
    "train_dataset, val_dataset = random_split(full_dataset, [train_size, val_size])\n",
    "train_dataset.dataset.transform = train_transform \n",
    "val_dataset.dataset.transform = val_transform"
   ]
  },
  {
   "cell_type": "code",
   "execution_count": 192,
   "metadata": {},
   "outputs": [],
   "source": [
    "train_loader = DataLoader(\n",
    "    train_dataset,\n",
    "    batch_size = batch_size,\n",
    "    shuffle = True,\n",
    ")"
   ]
  },
  {
   "cell_type": "code",
   "execution_count": 193,
   "metadata": {},
   "outputs": [],
   "source": [
    "val_loader = DataLoader(\n",
    "    val_dataset, \n",
    "    batch_size = batch_size,\n",
    "    shuffle = False\n",
    ")"
   ]
  },
  {
   "cell_type": "markdown",
   "metadata": {},
   "source": [
    "#### Step 14: Model initialization and training loop"
   ]
  },
  {
   "cell_type": "markdown",
   "metadata": {},
   "source": [
    "This cell orchestrates the complete training pipeline, from model's instantiation through iterative training and validation, implementing comprehensive monitoring and logging for effective model development.\n",
    "\n",
    "- **CUDA detection**: `torch.cuda.is_available()` checks for GPU availability\n",
    "\n",
    "The hybrid model is instantiated with carefully chosen hyperparameters:\n",
    "- **Number of classes**: `num_classes = 2` configured for the specific dataset\n",
    "- **Default architecture**: Uses ViT configuration (768 embedding dim, 1 transformer layer, 1 heads)\n",
    "\n",
    "Transfer learning integration \n",
    "The commented line demonstrates transfer learning capability:\n",
    "- **Pre-trained weights**: Option to load pre-trained CNN backbone weights\n",
    "- **Flexibile loading**: `strict = False` allows partial weight loading. \n",
    "\n",
    "**Optimizer**: The training uses `adam` optimizer. \n",
    "\n",
    "The training loop collects the **training and validation metrics** to track training performance and monitor generalization of the model."
   ]
  },
  {
   "cell_type": "markdown",
   "metadata": {},
   "source": [
    "##### Training loop architecure\n",
    "Each rpoch follows a standard pipeline:\n",
    "1. Timing: `time.time()` tracks epoch duration for performance monitoring\n",
    "2. Training phase: Calls the training function with appropriate parameters \n",
    "3. Validation phase: Evaluates model on validation set\n",
    "4. Logging: Comprehensive output showing all metrics and timing\n",
    "5. Storage: Appends metrics to tracking lists for later analysis\n",
    "\n",
    "In this training cell, we create a robust, monitored, and efficient training pipeline that provides comprehensive insights into model performance while maintaining computational efficiency enabling easy debugging and optimization."
   ]
  },
  {
   "cell_type": "code",
   "execution_count": 198,
   "metadata": {},
   "outputs": [
    {
     "name": "stdout",
     "output_type": "stream",
     "text": [
      "Training the model on cuda\n",
      "epochs:5 | batch:32 | attn_heads:6 | depth:3 | embed_dim:768\n",
      "\n",
      "Epoch  1/05 started at 20251025_204938\n"
     ]
    },
    {
     "name": "stderr",
     "output_type": "stream",
     "text": [
      "Training : 100%|██████████| 150/150 [00:06<00:00, 22.31it/s]\n",
      "Validation: 100%|██████████| 38/38 [00:00<00:00, 49.33it/s]\n"
     ]
    },
    {
     "name": "stdout",
     "output_type": "stream",
     "text": [
      "Epoch 01 | train loss 0.2340 acc 0.9481 | val loss 0.0569 acc 0.9833 | in  7.50s\n",
      "Current loss (0.0569) lower than previous best loss (inf), Saving current model state\n",
      "\n",
      "Epoch  2/05 started at 20251025_204945\n"
     ]
    },
    {
     "name": "stderr",
     "output_type": "stream",
     "text": [
      "Training : 100%|██████████| 150/150 [00:06<00:00, 21.76it/s]\n",
      "Validation: 100%|██████████| 38/38 [00:00<00:00, 46.83it/s]\n"
     ]
    },
    {
     "name": "stdout",
     "output_type": "stream",
     "text": [
      "Epoch 02 | train loss 0.0904 acc 0.9740 | val loss 0.0363 acc 0.9900 | in  7.71s\n",
      "Current loss (0.0363) lower than previous best loss (0.0569), Saving current model state\n",
      "\n",
      "Epoch  3/05 started at 20251025_204953\n"
     ]
    },
    {
     "name": "stderr",
     "output_type": "stream",
     "text": [
      "Training : 100%|██████████| 150/150 [00:06<00:00, 22.53it/s]\n",
      "Validation: 100%|██████████| 38/38 [00:00<00:00, 49.06it/s]\n"
     ]
    },
    {
     "name": "stdout",
     "output_type": "stream",
     "text": [
      "Epoch 03 | train loss 0.0959 acc 0.9683 | val loss 0.0229 acc 0.9925 | in  7.44s\n",
      "Current loss (0.0229) lower than previous best loss (0.0363), Saving current model state\n",
      "\n",
      "Epoch  4/05 started at 20251025_205001\n"
     ]
    },
    {
     "name": "stderr",
     "output_type": "stream",
     "text": [
      "Training : 100%|██████████| 150/150 [00:06<00:00, 22.89it/s]\n",
      "Validation: 100%|██████████| 38/38 [00:00<00:00, 49.36it/s]\n"
     ]
    },
    {
     "name": "stdout",
     "output_type": "stream",
     "text": [
      "Epoch 04 | train loss 0.1085 acc 0.9650 | val loss 0.0457 acc 0.9833 | in  7.33s\n",
      "\n",
      "Epoch  5/05 started at 20251025_205008\n"
     ]
    },
    {
     "name": "stderr",
     "output_type": "stream",
     "text": [
      "Training : 100%|██████████| 150/150 [00:06<00:00, 22.98it/s]\n",
      "Validation: 100%|██████████| 38/38 [00:00<00:00, 48.39it/s]"
     ]
    },
    {
     "name": "stdout",
     "output_type": "stream",
     "text": [
      "Epoch 05 | train loss 0.0624 acc 0.9808 | val loss 0.0356 acc 0.9900 | in  7.32s\n",
      "epochs:5 | batch:32 | attn_heads:6 | depth:3 | embed_dim:768\n"
     ]
    },
    {
     "name": "stderr",
     "output_type": "stream",
     "text": [
      "\n"
     ]
    }
   ],
   "source": [
    "device = \"cuda\" if torch.cuda.is_available() else \"cpu\"\n",
    "print(f\"Training the model on {device}\")\n",
    "\n",
    "epochs = 5\n",
    "attn_heads = 6\n",
    "depth = 3\n",
    "embed_dim = 768\n",
    "\n",
    "print(f\"epochs:{epochs} | batch:{batch_size} | attn_heads:{attn_heads} | depth:{depth} | embed_dim:{embed_dim}\")\n",
    "\n",
    "model_dict_name = f\"ai_capstone_pytorch_vit_model_state_dict.pth\"\n",
    "\n",
    "model = CNN_ViT_Hybrid(\n",
    "    num_classes=num_cls,\n",
    "    heads=attn_heads,\n",
    "    depth=depth,\n",
    "    embed_dim=embed_dim\n",
    ").to(device)\n",
    "\n",
    "# ------------------------------------------------------------------------------------------#\n",
    "# LOADING PRE-TRAINED CNN MODEL WEIGHTS\n",
    "model.cnn.load_state_dict(torch.load(pytorch_state_dict_path), strict=False)\n",
    "# ------------------------------------------------------------------------------------------#\n",
    "criterion = nn.CrossEntropyLoss()\n",
    "optimizer = torch.optim.Adam(model.parameters(), lr=lr)\n",
    "\n",
    "best_loss = float('inf')\n",
    "tr_loss_all = []\n",
    "te_loss_all = []\n",
    "tr_acc_all = []\n",
    "te_acc_all = [] \n",
    "\n",
    "training_time = []\n",
    "\n",
    "for epoch in range(1, epochs+1):\n",
    "    start_time = time.time()\n",
    "    print(f\"\\nEpoch {epoch: 02d}/{epochs:02d} started at {present_time()}\")\n",
    "    tr_loss, tr_acc = train(model, train_loader, optimizer, criterion, device) # Former gets the loss, latter gets the acc (just the way it is)\n",
    "    te_loss, te_acc = evaluate(model, val_loader, criterion, device)\n",
    "    print(f\"Epoch {epoch:02d} | \"\n",
    "          f\"train loss {tr_loss:.4f} acc {tr_acc:.4f} | \"\n",
    "          f\"val loss {te_loss:.4f} acc {te_acc:.4f} |\"\n",
    "          f\" in  {time.time()-start_time:.02f}s\"\n",
    "        )\n",
    "    tr_loss_all.append(tr_loss)\n",
    "    te_loss_all.append(te_loss)\n",
    "    tr_acc_all.append(tr_acc)\n",
    "    te_acc_all.append(te_acc)\n",
    "    training_time.append(time.time() - start_time)\n",
    "\n",
    "    # save the best model\n",
    "    avg_te_loss = te_loss\n",
    "    if avg_te_loss < best_loss:\n",
    "        print(f\"Current loss ({avg_te_loss:.04f}) lower than previous best loss ({ best_loss:.04f}), Saving current model state\")\n",
    "        best_loss = avg_te_loss\n",
    "        torch.save(model.state_dict(), model_dict_name)\n",
    "        \n",
    "print(f\"epochs:{epochs} | batch:{batch_size} | attn_heads:{attn_heads} | depth:{depth} | embed_dim:{embed_dim}\")\n"
   ]
  },
  {
   "cell_type": "markdown",
   "metadata": {},
   "source": [
    "#### Step 15: Optimize model"
   ]
  },
  {
   "cell_type": "markdown",
   "metadata": {},
   "source": [
    "### Hyperparameter cheatsheet (depth based)\n",
    "\n",
    "The Depth of the transformer blocks signify the number of transformer blocks stacked in the model. This is one of the most important features which differentiates a ViT from CNN.\n",
    "\n",
    "This table proides a basic overview on **how depth affects** other hyperparameters and model performance.\n",
    "\n",
    "|  **Depth** | **Attention heads** | **Dataset Size** |  **Performance** | **learning rate** | **Feature Complexity** | **Learning Focus** |\n",
    "|:---:|:---:|---|:---:|---|:---|:---:|\n",
    "| **3** | 6 | size < 1000 | Underfitting - too shallow |0.001 (Shallow: can handle higher learning rates) | Low-level features | Edges, textures, basic patterns |\n",
    "| **6** | 6 | size <1000 | Good for simple tasks |0.001 (Shallow: can handle higher learning rates) | Mid-level features | Shapes, object parts, spatial relationships |\n",
    "| **12** | 12 | 1000 < size < 10000 | Standard choice - good balance | 0.0005 (Medium: moderate learning rate) | High-level features | Objects, semantic concepts, global context |\n",
    "| **18** | 12 | 10000 < size < 100000 | High performance on complex tasks | 0.0003 (Deep: lower learning rate for stability) | High-level features | Objects, semantic concepts, global context |\n",
    "| **24** | 16 | 100000 < size | Diminishing returns, overfitting risk | 0.0001 (Very deep: very small learning rate) | High-level features | Objects, semantic concepts, global context |\n",
    "| **36** | 16 | 100000 < size | Likely overkill for most tasks | 0.0001 (Very deep: very small learning rate) | High-level features | Objects, semantic concepts, global context |\n"
   ]
  },
  {
   "cell_type": "code",
   "execution_count": 202,
   "metadata": {},
   "outputs": [
    {
     "name": "stdout",
     "output_type": "stream",
     "text": [
      "6000\n"
     ]
    }
   ],
   "source": [
    "print(len(full_dataset))"
   ]
  },
  {
   "cell_type": "code",
   "execution_count": 207,
   "metadata": {},
   "outputs": [
    {
     "name": "stdout",
     "output_type": "stream",
     "text": [
      "Training the model on cuda\n",
      "epochs:5 | batch:32 | attn_heads:12 | depth:12 | embed_dim:768\n",
      "\n",
      "Epoch 01/05 started at 20251025_210043\n"
     ]
    },
    {
     "name": "stderr",
     "output_type": "stream",
     "text": [
      "Training : 100%|██████████| 150/150 [00:12<00:00, 11.99it/s]\n",
      "Validation: 100%|██████████| 38/38 [00:01<00:00, 37.08it/s]\n"
     ]
    },
    {
     "name": "stdout",
     "output_type": "stream",
     "text": [
      "Epoch 01 | train loss 0.1651 acc 0.9577 | val loss 0.0133 acc 0.9967 | in  13.54s\n",
      "Current loss (0.0133) lower than previous best loss (inf), Saving current model state\n",
      "\n",
      "Epoch 02/05 started at 20251025_210057\n"
     ]
    },
    {
     "name": "stderr",
     "output_type": "stream",
     "text": [
      "Training : 100%|██████████| 150/150 [00:12<00:00, 11.76it/s]\n",
      "Validation: 100%|██████████| 38/38 [00:01<00:00, 35.81it/s]\n"
     ]
    },
    {
     "name": "stdout",
     "output_type": "stream",
     "text": [
      "Epoch 02 | train loss 0.0848 acc 0.9752 | val loss 0.0118 acc 0.9942 | in  13.82s\n",
      "Current loss (0.0118) lower than previous best loss (0.0133), Saving current model state\n",
      "\n",
      "Epoch 03/05 started at 20251025_210111\n"
     ]
    },
    {
     "name": "stderr",
     "output_type": "stream",
     "text": [
      "Training : 100%|██████████| 150/150 [00:12<00:00, 11.76it/s]\n",
      "Validation: 100%|██████████| 38/38 [00:01<00:00, 35.58it/s]\n"
     ]
    },
    {
     "name": "stdout",
     "output_type": "stream",
     "text": [
      "Epoch 03 | train loss 0.0705 acc 0.9773 | val loss 0.0313 acc 0.9917 | in  13.82s\n",
      "\n",
      "Epoch 04/05 started at 20251025_210125\n"
     ]
    },
    {
     "name": "stderr",
     "output_type": "stream",
     "text": [
      "Training : 100%|██████████| 150/150 [00:12<00:00, 11.83it/s]\n",
      "Validation: 100%|██████████| 38/38 [00:01<00:00, 36.12it/s]\n"
     ]
    },
    {
     "name": "stdout",
     "output_type": "stream",
     "text": [
      "Epoch 04 | train loss 0.0726 acc 0.9760 | val loss 0.0853 acc 0.9792 | in  13.74s\n",
      "\n",
      "Epoch 05/05 started at 20251025_210139\n"
     ]
    },
    {
     "name": "stderr",
     "output_type": "stream",
     "text": [
      "Training : 100%|██████████| 150/150 [00:12<00:00, 11.94it/s]\n",
      "Validation: 100%|██████████| 38/38 [00:01<00:00, 35.81it/s]\n"
     ]
    },
    {
     "name": "stdout",
     "output_type": "stream",
     "text": [
      "Epoch 05 | train loss 0.0505 acc 0.9831 | val loss 0.0107 acc 0.9967 | in  13.63s\n",
      "Current loss (0.0107) lower than previous best loss (0.0118), Saving current model state\n",
      "epochs:5 | batch:32 | attn_heads:12 | depth:12 | embed_dim:768\n"
     ]
    }
   ],
   "source": [
    "device   = \"cuda\" if torch.cuda.is_available() else \"cpu\"\n",
    "print(f\"Training the model on {device}\")\n",
    "\n",
    "epochs = 5\n",
    "attn_heads = 12\n",
    "depth = 12\n",
    "embed_dim = 768\n",
    "\n",
    "print(f\"epochs:{epochs} | batch:{batch_size} | attn_heads:{attn_heads} | depth:{depth} | embed_dim:{embed_dim}\")\n",
    "\n",
    "model_dict_name = f\"ai_capstone_pytorch_vit_model_test_state_dict\"\n",
    "\n",
    "model_test = CNN_ViT_Hybrid(\n",
    "    num_classes=num_cls,\n",
    "    heads = attn_heads,\n",
    "    depth = depth,\n",
    "    embed_dim = embed_dim\n",
    ").to(device)\n",
    "\n",
    "model_test.cnn.load_state_dict(torch.load(pytorch_state_dict_path), strict=False)\n",
    "\n",
    "criterion= nn.CrossEntropyLoss()\n",
    "optimizer= torch.optim.Adam(model_test.parameters(), lr=lr)\n",
    "\n",
    "best_loss = float(\"inf\")\n",
    "tr_loss_all_test = []\n",
    "te_loss_all_test =  []\n",
    "tr_acc_all_test = []\n",
    "te_acc_all_test = []\n",
    "\n",
    "training_time = []\n",
    "\n",
    "for epoch in range(1, epochs+1):\n",
    "    start_time = time.time()\n",
    "    print(f\"\\nEpoch {epoch:02d}/{epochs:02d} started at {present_time()}\")\n",
    "    tr_loss_test, tr_acc_test = train(model_test, train_loader, optimizer, criterion, device)\n",
    "    te_loss_test, te_acc_test = evaluate(model_test, val_loader, criterion, device)\n",
    "    print(f\"Epoch {epoch:02d} | \"\n",
    "          f\"train loss {tr_loss_test:.4f} acc {tr_acc_test:.4f} | \"\n",
    "          f\"val loss {te_loss_test:.4f} acc {te_acc_test:.4f} |\"\n",
    "          f\" in  {time.time()-start_time:.02f}s\"\n",
    "        )\n",
    "    tr_loss_all_test.append(tr_loss_test)\n",
    "    te_loss_all_test.append(te_loss_test)\n",
    "    tr_acc_all_test.append(tr_acc_test)\n",
    "    te_acc_all_test.append(te_acc_test)\n",
    "    training_time.append(time.time() - start_time)\n",
    "\n",
    "    avg_te_loss = te_loss_test\n",
    "    if avg_te_loss < best_loss:\n",
    "        print(f\"Current loss ({avg_te_loss:.04f}) lower than previous best loss ({ best_loss:.04f}), Saving current model state\")\n",
    "        best_loss = avg_te_loss\n",
    "        torch.save(model_test.state_dict(), model_dict_name)\n",
    "\n",
    "print(f\"epochs:{epochs} | batch:{batch_size} | attn_heads:{attn_heads} | depth:{depth} | embed_dim:{embed_dim}\")\n",
    "\n",
    "\n"
   ]
  },
  {
   "cell_type": "markdown",
   "metadata": {},
   "source": [
    "#### Step 16: Plotting training and validation accuracy and loss\n"
   ]
  },
  {
   "cell_type": "code",
   "execution_count": 211,
   "metadata": {},
   "outputs": [
    {
     "data": {
      "image/png": "[encoded data removed]",
      "text/plain": [
       "<Figure size 600x300 with 1 Axes>"
      ]
     },
     "metadata": {},
     "output_type": "display_data"
    },
    {
     "data": {
      "image/png": "[encoded data removed]",
      "text/plain": [
       "<Figure size 600x300 with 1 Axes>"
      ]
     },
     "metadata": {},
     "output_type": "display_data"
    }
   ],
   "source": [
    "fig_w, fig_h = 6, 3\n",
    "fig, axs = plt.subplots(figsize=(fig_w, fig_h))\n",
    "\n",
    "# Plot Accuracy on the first subplot\n",
    "axs.plot(tr_acc_all, label=\"Training Accuracy\")\n",
    "axs.plot(te_acc_all, label=\"Validation Accuracy\")\n",
    "axs.set_title(\"Model Accuracy\")\n",
    "axs.set_ylabel(\"Accuracy\")\n",
    "axs.legend()\n",
    "axs.grid(True)\n",
    "\n",
    "plt.tight_layout()\n",
    "plt.show()\n",
    "\n",
    "fig, axs = plt.subplots(figsize=(fig_w, fig_h))\n",
    "\n",
    "# Plot loss on the second subplot\n",
    "axs.plot(tr_loss_all, label=\"Training Loss\")\n",
    "axs.plot(te_loss_all, label=\"Validation Loss\")\n",
    "axs.set_title(\"Model Loss\")\n",
    "axs.set_xlabel(\"Epochs\")\n",
    "axs.set_ylabel(\"Loss\")\n",
    "axs.legend()\n",
    "axs.grid(True)\n",
    "\n",
    "plt.tight_layout()\n",
    "plt.show()"
   ]
  },
  {
   "cell_type": "code",
   "execution_count": 212,
   "metadata": {},
   "outputs": [
    {
     "data": {
      "image/png": "[encoded data removed]",
      "text/plain": [
       "<Figure size 600x300 with 1 Axes>"
      ]
     },
     "metadata": {},
     "output_type": "display_data"
    },
    {
     "data": {
      "image/png": "[encoded data removed]",
      "text/plain": [
       "<Figure size 600x300 with 1 Axes>"
      ]
     },
     "metadata": {},
     "output_type": "display_data"
    }
   ],
   "source": [
    "fig_w, fig_h = 6, 3\n",
    "fig, axs = plt.subplots(figsize=(fig_w, fig_h))\n",
    "\n",
    "# Plot Accuracy on the first subplot\n",
    "axs.plot(tr_acc_all_test, label=\"Training Accuracy\")\n",
    "axs.plot(te_acc_all_test, label=\"Validation Accuracy\")\n",
    "axs.set_title(\"Model test Accuracy\")\n",
    "axs.set_ylabel(\"Accuracy\")\n",
    "axs.legend()\n",
    "axs.grid(True)\n",
    "\n",
    "plt.tight_layout()\n",
    "plt.show()\n",
    "\n",
    "fig, axs = plt.subplots(figsize=(fig_w, fig_h))\n",
    "\n",
    "# Plot loss on the second subplot\n",
    "axs.plot(tr_loss_all_test, label=\"Training Loss\")\n",
    "axs.plot(te_loss_all_test, label=\"Validation Loss\")\n",
    "axs.set_title(\"Model Test Loss\")\n",
    "axs.set_xlabel(\"Epochs\")\n",
    "axs.set_ylabel(\"Loss\")\n",
    "axs.legend()\n",
    "axs.grid(True)\n",
    "\n",
    "plt.tight_layout()\n",
    "plt.show()"
   ]
  },
  {
   "cell_type": "code",
   "execution_count": 213,
   "metadata": {},
   "outputs": [
    {
     "data": {
      "image/png": "[encoded data removed]",
      "text/plain": [
       "<Figure size 600x300 with 1 Axes>"
      ]
     },
     "metadata": {},
     "output_type": "display_data"
    }
   ],
   "source": [
    "## Please use the space below to write your answer\n",
    "fig, axs = plt.subplots( figsize=(fig_w, fig_h ))\n",
    "\n",
    "# Plot Loss on the second subplot\n",
    "axs.plot(te_loss_all, label='Validation Loss (model)')\n",
    "axs.plot(te_loss_all_test, label='Validation Loss (model_test)')\n",
    "axs.set_title('Model Loss')\n",
    "axs.set_xlabel('Epochs')\n",
    "axs.set_ylabel('Loss')\n",
    "axs.legend()\n",
    "axs.grid(True)\n",
    "\n",
    "plt.tight_layout()\n",
    "plt.show()"
   ]
  },
  {
   "cell_type": "code",
   "execution_count": 214,
   "metadata": {},
   "outputs": [
    {
     "data": {
      "image/png": "[encoded data removed]",
      "text/plain": [
       "<Figure size 600x300 with 1 Axes>"
      ]
     },
     "metadata": {},
     "output_type": "display_data"
    }
   ],
   "source": [
    "fig, axs = plt.subplots( figsize=(fig_w, fig_h ))\n",
    "\n",
    "# Plot Loss on the second subplot\n",
    "axs.plot(training_time, label='Training time (model)')\n",
    "axs.plot(training_time_test, label='Training time (model_test)')\n",
    "axs.set_title('Training time')\n",
    "axs.set_xlabel('Epochs')\n",
    "axs.set_ylabel('Seconds')\n",
    "axs.legend()\n",
    "axs.grid(True)\n",
    "\n",
    "plt.tight_layout()\n",
    "plt.show()"
   ]
  }
 ],
 "metadata": {
  "kernelspec": {
   "display_name": "AI",
   "language": "python",
   "name": "python3"
  },
  "language_info": {
   "codemirror_mode": {
    "name": "ipython",
    "version": 3
   },
   "file_extension": ".py",
   "mimetype": "text/x-python",
   "name": "python",
   "nbconvert_exporter": "python",
   "pygments_lexer": "ipython3",
   "version": "3.13.7"
  },
  "prev_pub_hash": "4a19ade896ac32f0b13701328d072e437536245b8d403d8ea7cf218f30f84424"
 },
 "nbformat": 4,
 "nbformat_minor": 4
}
